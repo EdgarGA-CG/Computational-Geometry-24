{
 "cells": [
  {
   "cell_type": "markdown",
   "metadata": {},
   "source": [
    "# Gift Wrapping Algorithm\n",
    "\n",
    "First we need to find the leftmost point:"
   ]
  },
  {
   "cell_type": "code",
   "execution_count": 1,
   "metadata": {},
   "outputs": [],
   "source": [
    "def leftmost(points):\n",
    "    minim = 0\n",
    "    for i in range(1,len(points)):\n",
    "        if points[i][0] < points[minim][0]:\n",
    "            minim = i\n",
    "        elif points[i][0] == points[minim][0]:\n",
    "            if points[i][1] > points[minim][1]:\n",
    "                minim = i\n",
    "    return minim"
   ]
  },
  {
   "cell_type": "markdown",
   "metadata": {},
   "source": [
    "Then, starting from the leftmost point, until reaching it again, we need to find the point with the lowest angle. Since this point is a vertex of the convex hull, it verifies the property that all other points lie to the left of the directed line (previousVertex(p) -> thisPoint). Hence all we need to do to is look for the point q such that the triplet (p, q, r) is counterclockwise for any other point r.\n",
    "\n",
    "We first define a helper function that checks whether a triplet is counterclockwise or not:\n",
    "\n",
    "This tool is based in the following determinat propertie:\n",
    "\n",
    "For every $r \\in P$, $r$ lies strictly on the right side of the line which conteins $p$ and $q$ with direction $q-p$ if and only if \n",
    "\n",
    "$\\det\\begin{pmatrix}\n",
    "     1 & p_x & p_y\\\\ \n",
    "     1 & q_x & q_y\\\\\n",
    "     1 & r_x & r_y \n",
    "\\end{pmatrix} < 0 $ "
   ]
  },
  {
   "cell_type": "code",
   "execution_count": 2,
   "metadata": {},
   "outputs": [],
   "source": [
    "def det(p1, p2, p3):\n",
    "    \"\"\" \n",
    "    > 0: CCW turn\n",
    "    < 0 CW turn\n",
    "    = 0: colinear\n",
    "    \"\"\"\n",
    "    return (p2[0] - p1[0]) * (p3[1] - p1[1]) -(p2[1] - p1[1]) * (p3[0] - p1[0])"
   ]
  },
  {
   "cell_type": "code",
   "execution_count": 3,
   "metadata": {},
   "outputs": [],
   "source": [
    "from matplotlib import pyplot as plt #for plotting\n",
    "from random import randint #for creating data points\n",
    "\n",
    "def create_points(ct, min = 0, max = 50):\n",
    "    return [[randint(min, max), randint(min, max)]\\\n",
    "        for _ in range(ct)] \n",
    "\n",
    "def scatter_plot(coords, convex_hull = None):\n",
    "    xs, ys = zip(*coords) #unzip into x and y coordinates\n",
    "    plt.scatter(xs, ys)\n",
    "\n",
    "    if convex_hull:\n",
    "        for i in range(1, len(convex_hull) + 1):\n",
    "            if i == len(convex_hull): i = 0 #wrap\n",
    "            c0 = convex_hull[i-1]\n",
    "            c1 = convex_hull[i]\n",
    "            plt.plot((c0[0], c1[0]), (c0[1], c1[1]), 'r')\n",
    "    plt.show()\n"
   ]
  },
  {
   "cell_type": "code",
   "execution_count": 6,
   "metadata": {},
   "outputs": [],
   "source": [
    "points = create_points(10)\n",
    "hull = []\n",
    "l = leftmost(points)\n",
    "leftMost = points[l]\n",
    "currentVertex = leftMost\n",
    "hull.append(currentVertex)\n",
    "nextVertex = points[1]\n",
    "index = 2\n",
    "nextIndex = -1\n",
    "while True:\n",
    "    c0 = currentVertex\n",
    "    c1 = nextVertex\n",
    "\n",
    "    checking = points[index]\n",
    "    c2 = checking\n",
    "\n",
    "    crossProduct = det(currentVertex, nextVertex, checking)\n",
    "    if crossProduct < 0:\n",
    "        nextVertex = checking\n",
    "        nextIndex = index\n",
    "    index += 1\n",
    "    if index == len(points):\n",
    "        if nextVertex == leftMost:\n",
    "            break\n",
    "        index = 0\n",
    "        hull.append(nextVertex)\n",
    "        currentVertex = nextVertex\n",
    "        nextVertex = leftMost"
   ]
  },
  {
   "cell_type": "code",
   "execution_count": 7,
   "metadata": {},
   "outputs": [
    {
     "data": {
      "image/png": "[encoded data removed]",
      "text/plain": [
       "<Figure size 640x480 with 1 Axes>"
      ]
     },
     "metadata": {},
     "output_type": "display_data"
    }
   ],
   "source": [
    "scatter_plot(points, hull)"
   ]
  },
  {
   "cell_type": "code",
   "execution_count": null,
   "metadata": {},
   "outputs": [],
   "source": []
  }
 ],
 "metadata": {
  "kernelspec": {
   "display_name": "Python 3",
   "language": "python",
   "name": "python3"
  },
  "language_info": {
   "codemirror_mode": {
    "name": "ipython",
    "version": 3
   },
   "file_extension": ".py",
   "mimetype": "text/x-python",
   "name": "python",
   "nbconvert_exporter": "python",
   "pygments_lexer": "ipython3",
   "version": "3.12.1"
  }
 },
 "nbformat": 4,
 "nbformat_minor": 2
}
