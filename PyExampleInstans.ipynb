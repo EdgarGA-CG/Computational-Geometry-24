{
 "cells": [
  {
   "cell_type": "markdown",
   "metadata": {},
   "source": [
    "# Import Required Libraries\n",
    "Import the necessary libraries, including pathlib, matplotlib, os, and cgshop2025_pyutils."
   ]
  },
  {
   "cell_type": "code",
   "execution_count": 1,
   "metadata": {},
   "outputs": [
    {
     "ename": "ModuleNotFoundError",
     "evalue": "No module named 'cgshop2025_pyutils'",
     "output_type": "error",
     "traceback": [
      "\u001b[1;31m---------------------------------------------------------------------------\u001b[0m",
      "\u001b[1;31mModuleNotFoundError\u001b[0m                       Traceback (most recent call last)",
      "Cell \u001b[1;32mIn[1], line 7\u001b[0m\n\u001b[0;32m      4\u001b[0m \u001b[38;5;28;01mimport\u001b[39;00m \u001b[38;5;21;01mos\u001b[39;00m\n\u001b[0;32m      6\u001b[0m \u001b[38;5;66;03m# Import specific classes and functions from cgshop2025_pyutils\u001b[39;00m\n\u001b[1;32m----> 7\u001b[0m \u001b[38;5;28;01mfrom\u001b[39;00m \u001b[38;5;21;01mcgshop2025_pyutils\u001b[39;00m \u001b[38;5;28;01mimport\u001b[39;00m (\n\u001b[0;32m      8\u001b[0m     DelaunayBasedSolver,\n\u001b[0;32m      9\u001b[0m     InstanceDatabase,\n\u001b[0;32m     10\u001b[0m     ZipSolutionIterator,\n\u001b[0;32m     11\u001b[0m     ZipWriter,\n\u001b[0;32m     12\u001b[0m     verify,\n\u001b[0;32m     13\u001b[0m     visualization\n\u001b[0;32m     14\u001b[0m )\n",
      "\u001b[1;31mModuleNotFoundError\u001b[0m: No module named 'cgshop2025_pyutils'"
     ]
    }
   ],
   "source": [
    "# Import the necessary libraries\n",
    "from pathlib import Path\n",
    "from matplotlib import pyplot as plt\n",
    "import os\n",
    "\n",
    "# Import specific classes and functions from cgshop2025_pyutils\n",
    "from cgshop2025_pyutils import (\n",
    "    DelaunayBasedSolver,\n",
    "    InstanceDatabase,\n",
    "    ZipSolutionIterator,\n",
    "    ZipWriter,\n",
    "    verify,\n",
    "    visualization\n",
    ")"
   ]
  },
  {
   "cell_type": "markdown",
   "metadata": {},
   "source": [
    "# Locate the Instances\n",
    "Locate the instances using the InstanceDatabase class from cgshop2025_pyutils."
   ]
  },
  {
   "cell_type": "code",
   "execution_count": null,
   "metadata": {},
   "outputs": [],
   "source": [
    "# Locate the instances using the InstanceDatabase class from cgshop2025_pyutils\n",
    "file_path = os.path.join(os.path.dirname(os.path.abspath(__file__)))\n",
    "idb = InstanceDatabase(file_path)\n",
    "\n",
    "# Display the number of instances found\n",
    "print(f\"Number of instances found: {len(idb)}\")"
   ]
  },
  {
   "cell_type": "markdown",
   "metadata": {},
   "source": [
    "# Delete Existing Solution Zip File\n",
    "Check if the solution zip file already exists and delete it if it does."
   ]
  },
  {
   "cell_type": "code",
   "execution_count": null,
   "metadata": {},
   "outputs": [],
   "source": [
    "# Check if the solution zip file already exists and delete it if it does\n",
    "if Path(\"example_solutions.zip\").exists():\n",
    "    Path(\"example_solutions.zip\").unlink()\n",
    "    print(\"Existing solution zip file deleted.\")\n",
    "else:\n",
    "    print(\"No existing solution zip file found.\")"
   ]
  },
  {
   "cell_type": "markdown",
   "metadata": {},
   "source": [
    "# Initialize Plotting\n",
    "Initialize the plotting environment using matplotlib."
   ]
  },
  {
   "cell_type": "code",
   "execution_count": null,
   "metadata": {},
   "outputs": [],
   "source": [
    "# Initialize the plotting environment using matplotlib\n",
    "fig, axs = plt.subplots(2, figsize=(10, 8))  # Create a figure with 2 subplots\n",
    "plt.suptitle(\"Instance Visualization and Solution\")  # Set the main title for the figure\n",
    "\n",
    "# Display the initialized plot\n",
    "plt.show()"
   ]
  },
  {
   "cell_type": "markdown",
   "metadata": {},
   "source": [
    "# Compute Solutions for All Instances\n",
    "Compute solutions for all instances using the provided DelaunayBasedSolver and store them in a list."
   ]
  },
  {
   "cell_type": "code",
   "execution_count": null,
   "metadata": {},
   "outputs": [],
   "source": [
    "# Compute solutions for all instances using the provided DelaunayBasedSolver and store them in a list\n",
    "solutions = []  # Initialize an empty list to store solutions\n",
    "\n",
    "# Iterate over each instance in the InstanceDatabase\n",
    "for instance in idb:\n",
    "    uid = instance.instance_uid  # Get the unique identifier for the instance\n",
    "    points_x = instance.points_x  # Get the x-coordinates of the points in the instance\n",
    "    points_y = instance.points_y  # Get the y-coordinates of the points in the instance\n",
    "    num_points = instance.num_points  # Get the number of points in the instance\n",
    "    \n",
    "    # Print instance details for debugging purposes\n",
    "    print(f\"Instance UID: {uid}\")\n",
    "    print(f\"Points X: {points_x}\")\n",
    "    print(f\"Points Y: {points_y}\")\n",
    "    print(f\"Number of Points: {num_points}\")\n",
    "    \n",
    "    # Create a solver object for the instance using DelaunayBasedSolver\n",
    "    solver = DelaunayBasedSolver(instance)\n",
    "    \n",
    "    # Compute the solution for the instance\n",
    "    solution = solver.solve()\n",
    "    \n",
    "    # Append the computed solution to the solutions list\n",
    "    solutions.append(solution)\n",
    "    \n",
    "    # Visualize the instance using the provided visualization function\n",
    "    visualization.plot_instance(axs[0], instance)\n",
    "\n",
    "# Extract the edges from the first solution for visualization\n",
    "sol_edges = solutions[0].edges\n",
    "for edge in sol_edges:\n",
    "    axs[0].plot([points_x[edge[0]], points_x[edge[1]]], [points_y[edge[0]], points_y[edge[1]]])\n",
    "\n",
    "# Display the plot with the instance and its solution\n",
    "plt.show()"
   ]
  },
  {
   "cell_type": "markdown",
   "metadata": {},
   "source": [
    "# Plot Solutions\n",
    "Plot the solutions using matplotlib and the visualization module from cgshop2025_pyutils."
   ]
  },
  {
   "cell_type": "code",
   "execution_count": null,
   "metadata": {},
   "outputs": [],
   "source": [
    "# Plot Solutions\n",
    "\n",
    "# Extract the edges from the first solution for visualization\n",
    "sol_edges = solutions[0].edges\n",
    "\n",
    "# Plot the edges of the solution on the first subplot\n",
    "for edge in sol_edges:\n",
    "    axs[0].plot([points_x[edge[0]], points_x[edge[1]]], [points_y[edge[0]], points_y[edge[1]]], 'r-')\n",
    "\n",
    "# Set titles and labels for the subplots\n",
    "axs[0].set_title(\"Instance Points and Solution Edges\")\n",
    "axs[0].set_xlabel(\"X Coordinates\")\n",
    "axs[0].set_ylabel(\"Y Coordinates\")\n",
    "\n",
    "# Display the plot with the instance and its solution\n",
    "plt.show()"
   ]
  },
  {
   "cell_type": "markdown",
   "metadata": {},
   "source": [
    "# Write Solutions to Zip File\n",
    "Write the computed solutions to a new zip file using the ZipWriter class from cgshop2025_pyutils."
   ]
  },
  {
   "cell_type": "code",
   "execution_count": null,
   "metadata": {},
   "outputs": [],
   "source": [
    "# Write the computed solutions to a new zip file using the ZipWriter class from cgshop2025_pyutils\n",
    "with ZipWriter(\"example_solutions.zip\") as zw:\n",
    "    for solution in solutions:\n",
    "        zw.add_solution(solution)\n",
    "    print(\"Solutions written to example_solutions.zip\")"
   ]
  },
  {
   "cell_type": "markdown",
   "metadata": {},
   "source": [
    "# Verify Solutions\n",
    "Verify the solutions using the verify function from cgshop2025_pyutils and print the results."
   ]
  },
  {
   "cell_type": "code",
   "execution_count": null,
   "metadata": {},
   "outputs": [],
   "source": [
    "# Verify Solutions\n",
    "\n",
    "# Verify the solutions using the verify function from cgshop2025_pyutils and print the results\n",
    "for solution in ZipSolutionIterator(\"example_solutions.zip\"):\n",
    "    instance = idb[solution.instance_uid]  # Retrieve the instance corresponding to the solution\n",
    "    result = verify(instance, solution)  # Verify the solution against the instance\n",
    "    print(f\"{solution.instance_uid}: {result}\")  # Print the verification result\n",
    "    assert not result.errors, \"Expect no errors.\"  # Ensure there are no errors in the verification result"
   ]
  }
 ],
 "metadata": {
  "kernelspec": {
   "display_name": "Python 3",
   "language": "python",
   "name": "python3"
  },
  "language_info": {
   "codemirror_mode": {
    "name": "ipython",
    "version": 3
   },
   "file_extension": ".py",
   "mimetype": "text/x-python",
   "name": "python",
   "nbconvert_exporter": "python",
   "pygments_lexer": "ipython3",
   "version": "3.9.13"
  }
 },
 "nbformat": 4,
 "nbformat_minor": 2
}
