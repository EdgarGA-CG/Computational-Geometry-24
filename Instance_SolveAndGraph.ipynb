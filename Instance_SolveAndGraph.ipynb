{
 "cells": [
  {
   "cell_type": "markdown",
   "metadata": {},
   "source": [
    "# Import Required Libraries\n",
    "Import the necessary libraries, including pathlib, matplotlib, os, and cgshop2025_pyutils."
   ]
  },
  {
   "cell_type": "markdown",
   "metadata": {},
   "source": [
    "   >[!NOTE]\n",
    "   >\n",
    "   >Notebook requires the `ipywidgets` and `cgshop2025_pyutils` library for python, it is necessary to install with next line command:\n",
    "   >\n",
    "   >```bash\n",
    "   >pip install ipywidgets\n",
    "   >pip install cgshop2025_pyutils\n",
    "   >```"
   ]
  },
  {
   "cell_type": "code",
   "execution_count": null,
   "metadata": {},
   "outputs": [],
   "source": [
    "# Import the necessary libraries\n",
    "from pathlib import Path\n",
    "from matplotlib import pyplot as plt\n",
    "import ipywidgets as widgets\n",
    "\n",
    "# Import specific classes and functions from cgshop2025_pyutils\n",
    "from cgshop2025_pyutils import (\n",
    "    DelaunayBasedSolver,\n",
    "    InstanceDatabase,\n",
    "    ZipSolutionIterator,\n",
    "    ZipWriter,\n",
    "    verify,\n",
    "    visualization\n",
    ")"
   ]
  },
  {
   "cell_type": "markdown",
   "metadata": {},
   "source": [
    "# Locate the Instances\n",
    "Locate the instances using the InstanceDatabase class from cgshop2025_pyutils."
   ]
  },
  {
   "cell_type": "code",
   "execution_count": null,
   "metadata": {},
   "outputs": [],
   "source": [
    "# Locate the instances using the InstanceDatabase class from cgshop2025_pyutils\n",
    "idb = InstanceDatabase(\"example_instances/\")\n",
    "\n",
    "# Display the number of instances found\n",
    "print(f\"Number of instances found: {sum(1 for e in idb)}\")"
   ]
  },
  {
   "cell_type": "markdown",
   "metadata": {},
   "source": [
    "# Delete Existing Solution Zip File\n",
    "Check if the solution zip file already exists and delete it if it does."
   ]
  },
  {
   "cell_type": "code",
   "execution_count": null,
   "metadata": {},
   "outputs": [],
   "source": [
    "# Check if the solution zip file already exists and delete it if it does\n",
    "if Path(\"example_solutions.zip\").exists():\n",
    "    Path(\"example_solutions.zip\").unlink()\n",
    "    print(\"Existing solution zip file deleted.\")\n",
    "else:\n",
    "    print(\"No existing solution zip file found.\")"
   ]
  },
  {
   "cell_type": "markdown",
   "metadata": {},
   "source": [
    "# Compute Solutions for All Instances\n",
    "Compute solutions for all instances using the provided DelaunayBasedSolver and store them in a list."
   ]
  },
  {
   "cell_type": "code",
   "execution_count": null,
   "metadata": {},
   "outputs": [],
   "source": [
    "# Compute solutions for all instances using the provided DelaunayBasedSolver and store them in a list\n",
    "solutions = []  # Initialize an empty list to store solutions\n",
    "\n",
    "# Iterate over each instance in the InstanceDatabase\n",
    "for instance in idb:\n",
    "    uid = instance.instance_uid  # Get the unique identifier for the instance\n",
    "    points_x = instance.points_x  # Get the x-coordinates of the points in the instance\n",
    "    points_y = instance.points_y  # Get the y-coordinates of the points in the instance\n",
    "    num_points = instance.num_points  # Get the number of points in the instance\n",
    "    \n",
    "    # Print instance details for debugging purposes\n",
    "    print(f\"Instance UID: {uid}\")\n",
    "    print(f\"Points X: {points_x}\")\n",
    "    print(f\"Points Y: {points_y}\")\n",
    "    print(f\"Number of Points: {num_points}\")\n",
    "    \n",
    "    # Create a solver object for the instance using DelaunayBasedSolver\n",
    "    solver = DelaunayBasedSolver(instance)\n",
    "    \n",
    "    # Compute the solution for the instance\n",
    "    solution = solver.solve()\n",
    "    \n",
    "    # Append the computed solution to the solutions list\n",
    "    solutions.append(solution)\n"
   ]
  },
  {
   "cell_type": "markdown",
   "metadata": {},
   "source": [
    "# Write Solutions to Zip File\n",
    "Write the computed solutions to a new zip file using the ZipWriter class from cgshop2025_pyutils."
   ]
  },
  {
   "cell_type": "code",
   "execution_count": null,
   "metadata": {},
   "outputs": [],
   "source": [
    "# Write the computed solutions to a new zip file using the ZipWriter class from cgshop2025_pyutils\n",
    "with ZipWriter(\"example_solutions.zip\") as zw:\n",
    "    for solution in solutions:\n",
    "        zw.add_solution(solution)\n",
    "    print(\"Solutions written to example_solutions.zip\")"
   ]
  },
  {
   "cell_type": "markdown",
   "metadata": {},
   "source": [
    "Run below code to update with the selected UID "
   ]
  },
  {
   "cell_type": "markdown",
   "metadata": {},
   "source": [
    "# Plot Solutions\n",
    "Plot the solutions using matplotlib and the visualization module from cgshop2025_pyutils."
   ]
  },
  {
   "cell_type": "code",
   "execution_count": null,
   "metadata": {},
   "outputs": [],
   "source": [
    "# Plot Solutions\n",
    "\n",
    "# Get first solution for interactive controls\n",
    "uid_found = False\n",
    "sol_edges = []\n",
    "for solution in ZipSolutionIterator(\"example_solutions.zip\"):\n",
    "    sol_edges = solution.edges\n",
    "    break\n",
    "\n",
    "# Get input\n",
    "for instance in idb:\n",
    "    first_instance = instance.instance_uid\n",
    "    break\n",
    "\n",
    "uid_list = widgets.Dropdown(\n",
    "    options = [instance.instance_uid for instance in idb],\n",
    "    value = None,\n",
    "    description = 'UID'\n",
    ")\n",
    "\n",
    "edges_list = widgets.Dropdown(\n",
    "    options = {str(value):value for value in sol_edges},\n",
    "    value = None,\n",
    "    description = 'Edge'\n",
    ")\n",
    "\n",
    "def interactive_plot_solutions(sel_uid,sel_edge):\n",
    "    # Init plot\n",
    "    plt.ioff()\n",
    "    fig,axs = plt.subplots()\n",
    "\n",
    "    #  Find instance with uid\n",
    "    uid_found = False\n",
    "    for instance in idb:\n",
    "        if(instance.instance_uid == sel_uid):\n",
    "            uid_found = True\n",
    "            points_x = instance.points_x\n",
    "            points_y = instance.points_y\n",
    "            # Plot instance points\n",
    "            #visualization.plot_instance(axs,instance) \n",
    "            break\n",
    "\n",
    "    if uid_found == False : \n",
    "        print(\"uid not found\")\n",
    "        #exit()instance_selected = 0\n",
    "    \n",
    "    # Find solution with iud\n",
    "    uid_found = False\n",
    "    sol_edges = []\n",
    "    for solution in ZipSolutionIterator(\"example_solutions.zip\"):\n",
    "        if(solution.instance_uid == sel_uid):\n",
    "            uid_found = True\n",
    "            sol_edges = solution.edges\n",
    "    \n",
    "    edges_list.options = {str(value):value for value in sol_edges}\n",
    "\n",
    "    if uid_found == False : \n",
    "        print(\"uid not found\")\n",
    "        #exit()\n",
    "    \n",
    "    # Plot the edges of the solution\n",
    "    for edge in sol_edges:\n",
    "        #axs.plot([points_x[edge[0]], points_x[edge[1]]], [points_y[edge[0]], points_y[edge[1]]], 'r-')\n",
    "        # TODO: Logic to higlight in blue the selected edge in code block above\n",
    "        if(sel_edge == edge):\n",
    "            axs.plot([points_x[edge[0]], points_x[edge[1]]], [points_y[edge[0]], points_y[edge[1]]], color='blue')\n",
    "        else:\n",
    "            axs.plot([points_x[edge[0]], points_x[edge[1]]], [points_y[edge[0]], points_y[edge[1]]], 'r-')\n",
    "    \n",
    "    # Set titles and labels for the subplots\n",
    "    axs.set_title(\"Instance Points and Solution Edges\")\n",
    "    axs.set_xlabel(\"X Coordinates\")\n",
    "    axs.set_ylabel(\"Y Coordinates\")\n",
    "\n",
    "    # Set the main title for the figure\n",
    "    plt.suptitle(\"Instance Visualization and Solution\")\n",
    "\n",
    "    # Display the plot with the instance and its solution\n",
    "    if uid_found:\n",
    "        display(fig)\n",
    "    fig.clear()\n",
    "    axs.clear()\n",
    "\n",
    "widgets.interact(interactive_plot_solutions, sel_uid = uid_list, sel_edge = edges_list)\n",
    "\n",
    "#[print(f\"Triangulation:{tr}\") for tr in triang] # Print all triangulations\n"
   ]
  },
  {
   "cell_type": "markdown",
   "metadata": {},
   "source": [
    "# Calculate and plot triangulations"
   ]
  },
  {
   "cell_type": "code",
   "execution_count": null,
   "metadata": {},
   "outputs": [],
   "source": [
    "\n",
    "# Get first solution for interactive controls\n",
    "uid_found = False\n",
    "sol_edges = []\n",
    "for solution in ZipSolutionIterator(\"example_solutions.zip\"):\n",
    "    sol_edges = solution.edges\n",
    "    break\n",
    "\n",
    "uid_list = widgets.Dropdown(\n",
    "    options = [instance.instance_uid for instance in idb],\n",
    "    value = None,\n",
    "    description = 'UID'\n",
    ")\n",
    "triang = []\n",
    "triang_list = widgets.Dropdown(\n",
    "    options = {str(value):value for value in triang},\n",
    "    value = None,\n",
    "    description = 'Triangulation'\n",
    ")\n",
    "\n",
    "triang = []\n",
    "\n",
    "prev_uid = None\n",
    "def interactive_plot_triangulations(sel_uid,sel_triang):\n",
    "    # Init plot\n",
    "    #plt.ioff()\n",
    "    global prev_uid\n",
    "    uid_changed = False\n",
    "    if sel_uid != prev_uid and prev_uid != None:\n",
    "        uid_changed = True\n",
    "        prev_uid = sel_uid\n",
    "    \n",
    "    fig,axs = plt.subplots()\n",
    "\n",
    "    #  Find instance with uid\n",
    "    uid_found = False\n",
    "    for instance in idb:\n",
    "        if(instance.instance_uid == sel_uid):\n",
    "            uid_found = True\n",
    "            points_x = instance.points_x\n",
    "            points_y = instance.points_y\n",
    "            # Plot instance points\n",
    "            #visualization.plot_instance(axs,instance) \n",
    "            break\n",
    "\n",
    "    if uid_found == False : \n",
    "        print(\"uid not found\")\n",
    "        #exit()instance_selected = 0\n",
    "    \n",
    "    # Find solution with iud\n",
    "    uid_found = False\n",
    "    sol_edges = []\n",
    "    for solution in ZipSolutionIterator(\"example_solutions.zip\"):\n",
    "        if(solution.instance_uid == sel_uid):\n",
    "            uid_found = True\n",
    "            sol_edges = solution.edges\n",
    "\n",
    "    if uid_found == False : \n",
    "        print(\"uid not found\")\n",
    "        #exit()\n",
    "\n",
    "    triang = [] # Array for triangulations [[e1,e2,e3],[e4,e5,e6], ... [...]]\n",
    "\n",
    "    for i in range(len(sol_edges)): # Iterate over all solution edges\n",
    "        e_i = [] # Edges matching first vertex \n",
    "        e_j = [] # Edges matching second vertex\n",
    "        #print(f\"e_[{i}]: [{sol_edges[i][0]},{sol_edges[i][1]}] \") # Print the soluction edge to be comparted with rest of the edges\n",
    "        for j in range(i+1,len(sol_edges)):\n",
    "            if(sol_edges[i][0] == sol_edges[j][0] or sol_edges[i][0] == sol_edges[j][1]):\n",
    "                e_i.append(sol_edges[j])\n",
    "\n",
    "            if(sol_edges[i][1] == sol_edges[j][1] or sol_edges[i][1] == sol_edges[j][0]):\n",
    "                e_j.append(sol_edges[j])\n",
    "\n",
    "        #[print(f\"e_i: {ei}\") for ei in e_i] # Print all matches for edges i\n",
    "        #[print(f\"e_j: {ej}\") for ej in e_j] # Print all matches for edges j\n",
    "\n",
    "        # Compare all vertex in e_i and e_j to find the pair of edges with third vertex coincidence\n",
    "        for ei in e_i:\n",
    "            for ej in e_j:\n",
    "                aux = set(ei) & set(ej) # Intersection operation for sets. Length of the result will be 1 if the list ei and ej shares the value of one of his elements\n",
    "                if len(aux) == 1: # Check length \n",
    "                    triang.append([sol_edges[i],ei,ej]) # Add triangulation found on the list\n",
    "                    #print(f\"Triangulation{sol_edges[i],ei,ej}\") # Print triangulation found\n",
    "\n",
    "    if triang != []:             \n",
    "        triang_list.options = {str(value):value for value in triang} # Update triangulation list\n",
    "    if uid_changed:\n",
    "        triang_list.value = None\n",
    "    \n",
    "    if sel_triang != None and not uid_changed:\n",
    "        for edge in sol_edges:\n",
    "            axs.plot([points_x[edge[0]], points_x[edge[1]]], [points_y[edge[0]], points_y[edge[1]]], 'r-')\n",
    "    \n",
    "        for edge in list(sel_triang):\n",
    "            axs.plot([points_x[edge[0]], points_x[edge[1]]], [points_y[edge[0]], points_y[edge[1]]], color='blue')\n",
    "            #else:\n",
    "            #    axs.plot([points_x[edge[0]], points_x[edge[1]]], [points_y[edge[0]], points_y[edge[1]]], 'r-')\n",
    "\n",
    "    # Set titles and labels for the subplots\n",
    "    axs.set_title(\"Instance Points and Solution Edges\")\n",
    "    axs.set_xlabel(\"X Coordinates\")\n",
    "    axs.set_ylabel(\"Y Coordinates\")\n",
    "\n",
    "    # Set the main title for the figure\n",
    "    #plt.suptitle(\"Instance Visualization and Solution\")\n",
    "\n",
    "    # Display the plot with the instance and its solution\n",
    "    if uid_found:\n",
    "        display(fig)\n",
    "    fig.clear()\n",
    "    axs.clear()\n",
    "\n",
    "widgets.interact(interactive_plot_triangulations, sel_uid = uid_list, sel_triang = triang_list)\n"
   ]
  },
  {
   "cell_type": "markdown",
   "metadata": {},
   "source": [
    "# Verify Solutions\n",
    "Verify the solutions using the verify function from cgshop2025_pyutils and print the results."
   ]
  },
  {
   "cell_type": "code",
   "execution_count": null,
   "metadata": {},
   "outputs": [],
   "source": [
    "# Verify Solutions\n",
    "\n",
    "# Verify the solutions using the verify function from cgshop2025_pyutils and print the results\n",
    "for solution in ZipSolutionIterator(\"example_solutions.zip\"):\n",
    "   instance = idb[solution.instance_uid]  # Retrieve the instance corresponding to the solution\n",
    "   result = verify(instance, solution)  # Verify the solution against the instance\n",
    "   print(f\"{solution.instance_uid}: {result}\")  # Print the verification result\n",
    "   assert not result.errors, \"Expect no errors.\"  # Ensure there are no errors in the verification result"
   ]
  },
  {
   "cell_type": "markdown",
   "metadata": {},
   "source": [
    "Esto es una nueva atualización "
   ]
  }
 ],
 "metadata": {
  "kernelspec": {
   "display_name": "Python 3",
   "language": "python",
   "name": "python3"
  },
  "language_info": {
   "codemirror_mode": {
    "name": "ipython",
    "version": 3
   },
   "file_extension": ".py",
   "mimetype": "text/x-python",
   "name": "python",
   "nbconvert_exporter": "python",
   "pygments_lexer": "ipython3",
   "version": "3.12.1"
  }
 },
 "nbformat": 4,
 "nbformat_minor": 2
}
